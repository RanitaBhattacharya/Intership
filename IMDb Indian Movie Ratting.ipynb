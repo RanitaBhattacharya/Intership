{
 "cells": [
  {
   "cell_type": "markdown",
   "id": "a0c28e61",
   "metadata": {},
   "source": [
    "# IMDB Top Rated 100 Indian Movies "
   ]
  },
  {
   "cell_type": "code",
   "execution_count": 23,
   "id": "d0fef5b5",
   "metadata": {},
   "outputs": [],
   "source": [
    "from bs4 import BeautifulSoup\n",
    "import requests\n",
    "import re\n",
    "import pandas as pd\n",
    "\n"
   ]
  },
  {
   "cell_type": "code",
   "execution_count": 24,
   "id": "cd021142",
   "metadata": {},
   "outputs": [],
   "source": [
    "url=\"https://www.imdb.com/india/top-rated-indian-movies/https://www.imdb.com/india/top-rated-indian-movies/\""
   ]
  },
  {
   "cell_type": "code",
   "execution_count": 25,
   "id": "db46890f",
   "metadata": {},
   "outputs": [
    {
     "data": {
      "text/plain": [
       "<Response [404]>"
      ]
     },
     "execution_count": 25,
     "metadata": {},
     "output_type": "execute_result"
    }
   ],
   "source": [
    "page=requests.get(url)\n",
    "page"
   ]
  },
  {
   "cell_type": "code",
   "execution_count": 26,
   "id": "dfef5b70",
   "metadata": {},
   "outputs": [
    {
     "data": {
      "text/plain": [
       "b'\\n<!DOCTYPE html>\\n<html lang=\"en\">\\n<head>\\n  <meta charset=\"utf-8\" />\\n  <title>404 Error - IMDb</title>\\n  <style>\\nhtml, body {\\n  height: 100%;\\n}\\nbody {\\n  margin: auto;\\n  width: 1008px;\\n  background-color: #D4D9DD;\\n  font-family: Verdana, Arial, sans-serif;\\n}\\na {\\n  text-decoration: none;\\n}\\na:hover {\\n  text-decoration: underline;\\n}\\na:link, a:hover, a:visited {\\n  color: #136CB2;\\n}\\na:active {\\n  color: #E7BE00;\\n}\\n#error {\\n  height: 100%;\\n  background-color: white;\\n  border-left: 1px solid #999999;\\n  border-right: 1px solid #999999;\\n  box-shadow: 0 0 5px 5px #C5CACD;\\n}\\n.error_message {\\n  color: #999999;\\n  font-size: 17.5px;\\n  padding: 30px 70px 20px;\\n}\\n.error_bubble {\\n  font-family: Arial, helvetica, sans-serif;\\n  font-weight: bold;\\n  border-radius: 8px;\\n  -moz-border-radius: 8px;\\n  margin: 0 70px 0 70px;\\n  padding: 50px;\\n}\\n.error_bubble div {\\n  display: inline-block;\\n  vertical-align: middle;\\n}\\n.error_quote {\\n  color: #FFFFFF;\\n  font-size: 30px;\\n  line-height: 1.35em;\\n  padding-left: 50px;\\n  width: 500px;\\n}\\n.error_code {\\n  font-size: 100px;\\n  line-height: 50px;\\n  margin-top:8px\\n}\\n.error_arrow {\\n  border-color: #DECA16 transparent transparent transparent;\\n  border-style: solid;\\n  border-width: 21px 0px 0px 32px;\\n  height: 0;\\n  left: 700px;\\n  line-height: 0;\\n  position: relative;\\n  top: -1px;\\n  width: 0;\\n}\\n.error_code > span {\\n  font-size: 50px;\\n}\\n.error_attrib {\\n  color: #999999;\\n  float: right;\\n  font-size: 14px;\\n  font-style: italic;\\n  padding: 10px 70px 36px;\\n}\\n.error_code_403 .error_bubble,\\n.error_code_404 .error_bubble,\\n.error_code_400 .error_bubble,\\n.error_code_409 .error_bubble  {\\n  background: none repeat scroll 0% 0% #DECA16;\\n  border: 1px solid #DECA16;\\n}\\n.error_code_403 .error_code,\\n.error_code_404 .error_code,\\n.error_code_400 .error_code,\\n.error_code_409 .error_code {\\n  color: #BFAD13;\\n}\\n.error_code_500 .error_bubble {\\n  background: none repeat scroll 0% 0% #EDCA24;\\n  border: 1px solid #EDCA24;\\n}\\n.error_code_500 .error_code {\\n  color: #CCAD1F;\\n}\\n.error_code_500 .error_arrow{\\n  border-color: #EDCA24 transparent transparent transparent;\\n}\\n.error_code_503 .error_bubble {\\n  background: none repeat scroll 0% 0% #2E9CEA;\\n  border: 1px solid #2E9CEA;\\n}\\n.error_code_503 .error_code {\\n  color: #2173B2;\\n}\\n.error_code_503 .error_arrow {\\n  border-color: #2E9CEA transparent transparent transparent;\\n}\\na.btn {\\n  background-repeat: repeat-x; \\n  background-color: #ECE2C6;\\n  background-image: linear-gradient(rgba(255,255,255,.8) 5%, rgba(255,255,255,0.0) 70%, rgba(255,255,255,0.8) 100%); \\n  background-image: -moz-linear-gradient(rgba(255,255,255,.8) 5%, rgba(255,255,255,0.0) 70%, rgba(255,255,255,0.8) 100%); \\n  background-image: -webkit-linear-gradient(rgba(255,255,255,.8) 5%, rgba(255,255,255,0.0) 70%, rgba(255,255,255,0.8) 100%); \\n  background-image: -ms-linear-gradient(rgba(255,255,255,.8) 5%, rgba(255,255,255,0.0) 70%, rgba(255,255,255,0.8) 100%); \\n  border-color: #E0E0E0 #C0C0C0 #C0C0C0 #E0E0E0;\\n  border-radius: 3px 3px 3px 3px;\\n  border-style: solid;\\n  border-width: 1px;\\n  color: #000000;\\n  cursor: pointer;\\n  float: right;\\n  margin-right: 70px;\\n  margin-top: 26px;\\n  padding: 0.3em 0.6em;\\n  text-decoration: none;\\n}\\na.btn:hover {\\n  background-image: none;\\n  border-color: #E6B800;\\n}\\n.clear {\\n  clear: both;\\n}\\n  </style>\\n</head>\\n<body>\\n<div id=\"error\" class=\"error_code_404\">\\n    <div class=\"error_message\">\\n        The requested URL was not found on our server.\\n        <a href=\"/\">Go to the homepage</a> &raquo;\\n    </div>\\n    <div class=\"error_bubble\">\\n        <div class=\"error_code\">404<br><span>ERROR</span></div>\\n        <div class=\"error_quote\">I\\'ve got a feeling we\\'re not in Kansas anymore.</div>\\n    </div>\\n    <div class=\"error_arrow\"></div>\\n    <div class=\"error_attrib\">\\n        <span>Dorothy, </span><a href=\"/title/tt0032138/\">The Wizard of Oz (1939)</a>\\n    </div>\\n    <div class=\"clear\"></div>\\n</div>\\n<!-- The next level -->\\n</body>\\n</html>\\n'"
      ]
     },
     "execution_count": 26,
     "metadata": {},
     "output_type": "execute_result"
    }
   ],
   "source": [
    "##display the page source code \n",
    "\n",
    "page.content"
   ]
  },
  {
   "cell_type": "code",
   "execution_count": 27,
   "id": "28ba159e",
   "metadata": {},
   "outputs": [
    {
     "name": "stdout",
     "output_type": "stream",
     "text": [
      "<!DOCTYPE html>\n",
      "<html lang=\"en\">\n",
      " <head>\n",
      "  <meta charset=\"utf-8\"/>\n",
      "  <title>\n",
      "   404 Error - IMDb\n",
      "  </title>\n",
      "  <style>\n",
      "   html, body {\n",
      "  height: 100%;\n",
      "}\n",
      "body {\n",
      "  margin: auto;\n",
      "  width: 1008px;\n",
      "  background-color: #D4D9DD;\n",
      "  font-family: Verdana, Arial, sans-serif;\n",
      "}\n",
      "a {\n",
      "  text-decoration: none;\n",
      "}\n",
      "a:hover {\n",
      "  text-decoration: underline;\n",
      "}\n",
      "a:link, a:hover, a:visited {\n",
      "  color: #136CB2;\n",
      "}\n",
      "a:active {\n",
      "  color: #E7BE00;\n",
      "}\n",
      "#error {\n",
      "  height: 100%;\n",
      "  background-color: white;\n",
      "  border-left: 1px solid #999999;\n",
      "  border-right: 1px solid #999999;\n",
      "  box-shadow: 0 0 5px 5px #C5CACD;\n",
      "}\n",
      ".error_message {\n",
      "  color: #999999;\n",
      "  font-size: 17.5px;\n",
      "  padding: 30px 70px 20px;\n",
      "}\n",
      ".error_bubble {\n",
      "  font-family: Arial, helvetica, sans-serif;\n",
      "  font-weight: bold;\n",
      "  border-radius: 8px;\n",
      "  -moz-border-radius: 8px;\n",
      "  margin: 0 70px 0 70px;\n",
      "  padding: 50px;\n",
      "}\n",
      ".error_bubble div {\n",
      "  display: inline-block;\n",
      "  vertical-align: middle;\n",
      "}\n",
      ".error_quote {\n",
      "  color: #FFFFFF;\n",
      "  font-size: 30px;\n",
      "  line-height: 1.35em;\n",
      "  padding-left: 50px;\n",
      "  width: 500px;\n",
      "}\n",
      ".error_code {\n",
      "  font-size: 100px;\n",
      "  line-height: 50px;\n",
      "  margin-top:8px\n",
      "}\n",
      ".error_arrow {\n",
      "  border-color: #DECA16 transparent transparent transparent;\n",
      "  border-style: solid;\n",
      "  border-width: 21px 0px 0px 32px;\n",
      "  height: 0;\n",
      "  left: 700px;\n",
      "  line-height: 0;\n",
      "  position: relative;\n",
      "  top: -1px;\n",
      "  width: 0;\n",
      "}\n",
      ".error_code > span {\n",
      "  font-size: 50px;\n",
      "}\n",
      ".error_attrib {\n",
      "  color: #999999;\n",
      "  float: right;\n",
      "  font-size: 14px;\n",
      "  font-style: italic;\n",
      "  padding: 10px 70px 36px;\n",
      "}\n",
      ".error_code_403 .error_bubble,\n",
      ".error_code_404 .error_bubble,\n",
      ".error_code_400 .error_bubble,\n",
      ".error_code_409 .error_bubble  {\n",
      "  background: none repeat scroll 0% 0% #DECA16;\n",
      "  border: 1px solid #DECA16;\n",
      "}\n",
      ".error_code_403 .error_code,\n",
      ".error_code_404 .error_code,\n",
      ".error_code_400 .error_code,\n",
      ".error_code_409 .error_code {\n",
      "  color: #BFAD13;\n",
      "}\n",
      ".error_code_500 .error_bubble {\n",
      "  background: none repeat scroll 0% 0% #EDCA24;\n",
      "  border: 1px solid #EDCA24;\n",
      "}\n",
      ".error_code_500 .error_code {\n",
      "  color: #CCAD1F;\n",
      "}\n",
      ".error_code_500 .error_arrow{\n",
      "  border-color: #EDCA24 transparent transparent transparent;\n",
      "}\n",
      ".error_code_503 .error_bubble {\n",
      "  background: none repeat scroll 0% 0% #2E9CEA;\n",
      "  border: 1px solid #2E9CEA;\n",
      "}\n",
      ".error_code_503 .error_code {\n",
      "  color: #2173B2;\n",
      "}\n",
      ".error_code_503 .error_arrow {\n",
      "  border-color: #2E9CEA transparent transparent transparent;\n",
      "}\n",
      "a.btn {\n",
      "  background-repeat: repeat-x; \n",
      "  background-color: #ECE2C6;\n",
      "  background-image: linear-gradient(rgba(255,255,255,.8) 5%, rgba(255,255,255,0.0) 70%, rgba(255,255,255,0.8) 100%); \n",
      "  background-image: -moz-linear-gradient(rgba(255,255,255,.8) 5%, rgba(255,255,255,0.0) 70%, rgba(255,255,255,0.8) 100%); \n",
      "  background-image: -webkit-linear-gradient(rgba(255,255,255,.8) 5%, rgba(255,255,255,0.0) 70%, rgba(255,255,255,0.8) 100%); \n",
      "  background-image: -ms-linear-gradient(rgba(255,255,255,.8) 5%, rgba(255,255,255,0.0) 70%, rgba(255,255,255,0.8) 100%); \n",
      "  border-color: #E0E0E0 #C0C0C0 #C0C0C0 #E0E0E0;\n",
      "  border-radius: 3px 3px 3px 3px;\n",
      "  border-style: solid;\n",
      "  border-width: 1px;\n",
      "  color: #000000;\n",
      "  cursor: pointer;\n",
      "  float: right;\n",
      "  margin-right: 70px;\n",
      "  margin-top: 26px;\n",
      "  padding: 0.3em 0.6em;\n",
      "  text-decoration: none;\n",
      "}\n",
      "a.btn:hover {\n",
      "  background-image: none;\n",
      "  border-color: #E6B800;\n",
      "}\n",
      ".clear {\n",
      "  clear: both;\n",
      "}\n",
      "  </style>\n",
      " </head>\n",
      " <body>\n",
      "  <div class=\"error_code_404\" id=\"error\">\n",
      "   <div class=\"error_message\">\n",
      "    The requested URL was not found on our server.\n",
      "    <a href=\"/\">\n",
      "     Go to the homepage\n",
      "    </a>\n",
      "    »\n",
      "   </div>\n",
      "   <div class=\"error_bubble\">\n",
      "    <div class=\"error_code\">\n",
      "     404\n",
      "     <br/>\n",
      "     <span>\n",
      "      ERROR\n",
      "     </span>\n",
      "    </div>\n",
      "    <div class=\"error_quote\">\n",
      "     I've got a feeling we're not in Kansas anymore.\n",
      "    </div>\n",
      "   </div>\n",
      "   <div class=\"error_arrow\">\n",
      "   </div>\n",
      "   <div class=\"error_attrib\">\n",
      "    <span>\n",
      "     Dorothy,\n",
      "    </span>\n",
      "    <a href=\"/title/tt0032138/\">\n",
      "     The Wizard of Oz (1939)\n",
      "    </a>\n",
      "   </div>\n",
      "   <div class=\"clear\">\n",
      "   </div>\n",
      "  </div>\n",
      "  <!-- The next level -->\n",
      " </body>\n",
      "</html>\n",
      "\n"
     ]
    }
   ],
   "source": [
    "\n",
    "soup= BeautifulSoup(page.content,\"html.parser\")\n",
    "print(soup.prettify())"
   ]
  },
  {
   "cell_type": "code",
   "execution_count": 32,
   "id": "fde65910",
   "metadata": {},
   "outputs": [
    {
     "data": {
      "text/plain": [
       "[]"
      ]
     },
     "execution_count": 32,
     "metadata": {},
     "output_type": "execute_result"
    }
   ],
   "source": [
    "#Scraped Movies Name\n",
    "scraped_movies=soup.find_all('td',id_='titleColumn')\n",
    "scraped_movies"
   ]
  },
  {
   "cell_type": "code",
   "execution_count": 42,
   "id": "b3ac52b3",
   "metadata": {},
   "outputs": [
    {
     "data": {
      "text/plain": [
       "[]"
      ]
     },
     "execution_count": 42,
     "metadata": {},
     "output_type": "execute_result"
    }
   ],
   "source": [
    "#Parse Movies Name \n",
    "movies=[]\n",
    "for movie in scraped_movies:\n",
    "    movies=movie.get_text().replace('\\n',\"\")\n",
    "    movie=movie.strip(\" \")\n",
    "    movies.append(movie)\n",
    "movies"
   ]
  },
  {
   "cell_type": "code",
   "execution_count": 43,
   "id": "6a36a2b6",
   "metadata": {},
   "outputs": [
    {
     "data": {
      "text/plain": [
       "[]"
      ]
     },
     "execution_count": 43,
     "metadata": {},
     "output_type": "execute_result"
    }
   ],
   "source": [
    "# scrap ratting for movies \n",
    "scraped_ratings =soup.find_all('td',class_='ratingColumn imdbRating')\n",
    "scraped_ratings\n"
   ]
  },
  {
   "cell_type": "code",
   "execution_count": 48,
   "id": "103816d6",
   "metadata": {},
   "outputs": [],
   "source": [
    "#parse rattings\n",
    "ratings =[]\n",
    "for rating in scraped_ratings:\n",
    "    rating= rating.get_text().replace('\\n','')\n",
    "    ratings.append(rating)\n",
    "    ratings"
   ]
  },
  {
   "cell_type": "markdown",
   "id": "e9c3b994",
   "metadata": {},
   "source": [
    "# Store the Scraped Data"
   ]
  },
  {
   "cell_type": "code",
   "execution_count": 49,
   "id": "8b1e7010",
   "metadata": {},
   "outputs": [
    {
     "data": {
      "text/html": [
       "<div>\n",
       "<style scoped>\n",
       "    .dataframe tbody tr th:only-of-type {\n",
       "        vertical-align: middle;\n",
       "    }\n",
       "\n",
       "    .dataframe tbody tr th {\n",
       "        vertical-align: top;\n",
       "    }\n",
       "\n",
       "    .dataframe thead th {\n",
       "        text-align: right;\n",
       "    }\n",
       "</style>\n",
       "<table border=\"1\" class=\"dataframe\">\n",
       "  <thead>\n",
       "    <tr style=\"text-align: right;\">\n",
       "      <th></th>\n",
       "      <th>Movie Names</th>\n",
       "      <th>Ratings</th>\n",
       "    </tr>\n",
       "  </thead>\n",
       "  <tbody>\n",
       "  </tbody>\n",
       "</table>\n",
       "</div>"
      ],
      "text/plain": [
       "Empty DataFrame\n",
       "Columns: [Movie Names, Ratings]\n",
       "Index: []"
      ]
     },
     "execution_count": 49,
     "metadata": {},
     "output_type": "execute_result"
    }
   ],
   "source": [
    "data=pd.DataFrame()\n",
    "data['Movie Names']= movies \n",
    "data['Ratings'] = ratings\n",
    "data.head()"
   ]
  },
  {
   "cell_type": "code",
   "execution_count": 56,
   "id": "c76e58d3",
   "metadata": {},
   "outputs": [],
   "source": [
    "data.to_csv('Indian_Top_250_Films_Imdb.xlsx.csv', index=False)"
   ]
  }
 ],
 "metadata": {
  "kernelspec": {
   "display_name": "Python 3 (ipykernel)",
   "language": "python",
   "name": "python3"
  },
  "language_info": {
   "codemirror_mode": {
    "name": "ipython",
    "version": 3
   },
   "file_extension": ".py",
   "mimetype": "text/x-python",
   "name": "python",
   "nbconvert_exporter": "python",
   "pygments_lexer": "ipython3",
   "version": "3.9.7"
  }
 },
 "nbformat": 4,
 "nbformat_minor": 5
}
